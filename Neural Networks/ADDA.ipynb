{
 "cells": [
  {
   "cell_type": "code",
   "execution_count": 6,
   "metadata": {},
   "outputs": [],
   "source": [
    "import numpy as np\n",
    "import pandas as pd\n",
    "import random\n",
    "import matplotlib.pyplot as plt\n",
    "import torch # entire library\n",
    "import torch.nn as nn # all neural network moduals, e.g., linear, convolutional, loss function\n",
    "import torch.optim as optim # optimization function\n",
    "import torch.nn.functional as F # all functions that do not have parameters, e.g., Relu, Tanh, etc\n",
    "from torch.utils.data import DataLoader # easier data management\n",
    "from torch.utils.data import TensorDataset, DataLoader\n",
    "from sklearn.metrics import mean_squared_error, mean_absolute_error, r2_score\n",
    "from sklearn.preprocessing import StandardScaler, MinMaxScaler\n",
    "from sklearn.linear_model import LinearRegression\n",
    "from sklearn.model_selection import train_test_split\n",
    "import torch.nn as nn\n",
    "from torch.nn import init\n",
    "from torch.autograd import Variable\n",
    "from torch.autograd import Function\n",
    "from IPython import embed\n",
    "import pandas.tseries.offsets as offsets\n",
    "import torch\n",
    "from statsmodels.tools.eval_measures import rmse\n",
    "import torchvision.transforms as transforms"
   ]
  },
  {
   "cell_type": "code",
   "execution_count": 2,
   "metadata": {},
   "outputs": [],
   "source": [
    "def mae(y,yh):\n",
    "    return np.mean(np.abs(y-yh))"
   ]
  },
  {
   "cell_type": "code",
   "execution_count": 3,
   "metadata": {},
   "outputs": [
    {
     "name": "stdout",
     "output_type": "stream",
     "text": [
      "(349, 118)\n",
      "(141, 118)\n",
      "(31, 118)\n"
     ]
    }
   ],
   "source": [
    "dftar1 = pd.read_excel(\"C:/Users\\liuwe\\Desktop\\Daily\\Research\\ENEOS/Data_1/Firing1.xlsx\",parse_dates=[1],index_col=1)\n",
    "dftar2 = pd.read_excel(\"C:/Users\\liuwe\\Desktop\\Daily\\Research\\ENEOS/Data_2/Firing2.xlsx\",parse_dates=[1],index_col=1, skipfooter=1)\n",
    "dftar3 = pd.read_excel(\"C:/Users\\liuwe\\Desktop\\Daily\\Research\\ENEOS\\Data_3/Firing/TrueValue.xlsx\",parse_dates=[1],index_col=1)\n",
    "dftar1 = dftar1.groupby(level=0).first()\n",
    "dftar2 = dftar2.groupby(level=0).first()\n",
    "dftar3 = dftar3.groupby(level=0).first()\n",
    "y1 = dftar1.iloc[:,1].values\n",
    "y2 = dftar2.iloc[:,1].values\n",
    "y3 = dftar3.iloc[:,1].values\n",
    "df1 = pd.read_hdf(\"C:/Users\\liuwe\\Desktop\\Daily\\Research\\ENEOS/Data_1/8F_20190802_20200801_PV.hdf\",\"df\")\n",
    "df2 = pd.read_hdf(\"C:/Users\\liuwe\\Desktop\\Daily\\Research\\ENEOS/Data_2/8F_20201106_20210418_PV.hdf\",\"xls_df\")\n",
    "df2[['R8FF22.PV','R8FF32.PV', 'R8FF5.PV']] = df2[['R8FF22.PV','R8FF32.PV', 'R8FF5.PV']].apply(pd.to_numeric, errors='coerce')\n",
    "df3 = pd.read_hdf(\"C:/Users\\liuwe\\Desktop\\Daily\\Research\\ENEOS\\Data_3/Firing/8F_20210701_20210930_PV.hdf\",\"xls_df\")\n",
    "dfext1 = pd.DataFrame(columns=df1.columns)\n",
    "for i in range(len(dftar1.index)):\n",
    "    dfext1.loc[dftar1.index[i]]=df1[dftar1.index[i]-offsets.Minute(60):dftar1.index[i]].mean()\n",
    "dfext2 = pd.DataFrame(columns=df2.columns)\n",
    "for i in range(len(dftar2.index)):\n",
    "    dfext2.loc[dftar2.index[i]]=df2[dftar2.index[i]-offsets.Minute(60):dftar2.index[i]].mean()\n",
    "dfext3 = pd.DataFrame(columns=df3.columns)\n",
    "for i in range(len(dftar3.index)):\n",
    "    dfext3.loc[dftar3.index[i]]=df3[dftar3.index[i]-offsets.Minute(60):dftar3.index[i]].mean()\n",
    "    irq = dfext1.quantile(0.75)-dfext1.quantile(0.25)\n",
    "vars_inactive = irq.index[irq==0.0]\n",
    "dfext1 = dfext1.drop(vars_inactive,axis=1)\n",
    "vars_hasnan = dfext1.columns[dfext1.isnull().sum(axis=0)>0]\n",
    "dfext1 = dfext1.drop(vars_hasnan,axis=1)\n",
    "dfext1 = dfext1.drop('8FHC2.OP',axis=1) # missing values\n",
    "dfext2 = dfext2[dfext1.columns]\n",
    "dfext3 = dfext3[dfext1.columns]\n",
    "zero_column = dfext2.columns[(dfext2 == 0).sum(axis=0)>5]\n",
    "dfext2[zero_column] = dfext2[zero_column].replace(0,dfext2[zero_column].mean())\n",
    "nan_column = dfext2.columns[dfext2.isnull().sum(axis=0)>0]\n",
    "dfext2[nan_column] = dfext2[nan_column].replace(np.nan,dfext2[nan_column].mean())\n",
    "print(dfext1.shape)\n",
    "print(dfext2.shape)\n",
    "print(dfext3.shape)"
   ]
  },
  {
   "cell_type": "code",
   "execution_count": 121,
   "metadata": {},
   "outputs": [],
   "source": [
    "# scaler = StandardScaler()\n",
    "scaler = MinMaxScaler()\n",
    "scaler.fit(dfext1.values)\n",
    "X_1 = scaler.transform(dfext1.values)\n",
    "X_2 = scaler.transform(dfext2.values)\n",
    "X_3 = scaler.transform(dfext3.values)"
   ]
  },
  {
   "cell_type": "code",
   "execution_count": 5,
   "metadata": {},
   "outputs": [],
   "source": [
    "def seed_worker(worker_seed):\n",
    "    np.random.seed(worker_seed)\n",
    "    random.seed(worker_seed)\n",
    "    torch.manual_seed(worker_seed)\n",
    "\n",
    "def data_loader(X, y, batch_size, seed):\n",
    "    X, y = torch.Tensor(X), torch.Tensor(y)\n",
    "    data = TensorDataset(X, y)\n",
    "    g = torch.Generator()\n",
    "    data_loader = DataLoader(data, batch_size=batch_size, shuffle=False, worker_init_fn=seed_worker(seed), drop_last=False, generator=g)\n",
    "    return data_loader"
   ]
  },
  {
   "cell_type": "code",
   "execution_count": 86,
   "metadata": {},
   "outputs": [],
   "source": [
    "class FeatureExtractor(nn.Module):\n",
    "    def __init__(self, input_size=None, hidden_size=None, out_size=None):\n",
    "        super(FeatureExtractor, self).__init__()\n",
    "        self.fc1 = nn.Linear(in_features=input_size, out_features=hidden_size)\n",
    "        # self.fc2 = nn.Linear(in_features=hidden_size, out_features=out_size)\n",
    "        # Define your architecture here\n",
    "\n",
    "    def forward(self, x):\n",
    "        # Forward pass through the feature extractor\n",
    "        x = torch.relu(self.fc1(x))\n",
    "        # x = torch.relu(self.fc2(x))\n",
    "        return x\n",
    "\n",
    "# Define the domain classifier\n",
    "class DomainClassifier(nn.Module):\n",
    "    def __init__(self,hidden_size):\n",
    "        super(DomainClassifier, self).__init__()\n",
    "        self.fc = nn.Linear(in_features=hidden_size, out_features=1)\n",
    "        # Define your architecture here\n",
    "\n",
    "    def forward(self, x):\n",
    "        # Forward pass through the domain classifier\n",
    "        x = torch.relu(self.fc(x))\n",
    "        output = torch.sigmoid(x)\n",
    "        return output\n",
    "\n",
    "# Define the regression-specific output layer\n",
    "class RegressionOutput(nn.Module):\n",
    "    def __init__(self, out_size):\n",
    "        super(RegressionOutput, self).__init__()\n",
    "        self.fc_output = nn.Linear(in_features=out_size, out_features=1)\n",
    "    \n",
    "    def forward(self, x):\n",
    "        return self.fc_output(x)\n"
   ]
  },
  {
   "cell_type": "code",
   "execution_count": 168,
   "metadata": {},
   "outputs": [],
   "source": [
    "def regressor(num_epochs=None, input_size=None, hidden_size=None, out_size=None, lr=None,source_data_loader=None):\n",
    "    feature_extractor = FeatureExtractor(input_size, hidden_size, out_size)\n",
    "    reg = RegressionOutput(hidden_size)\n",
    "\n",
    "    optimizer_fea = optim.Adam(feature_extractor.parameters(), lr=lr)\n",
    "    optimizer_reg = optim.Adam(reg.parameters(), lr=lr)\n",
    "    regression_criterion = nn.MSELoss()\n",
    "\n",
    "    for epoch in range(num_epochs):\n",
    "        for source_x, source_y in source_data_loader:\n",
    "            source_features = feature_extractor(source_x)\n",
    "            predictions = reg(source_features)\n",
    "            loss = regression_criterion(predictions, source_y)\n",
    "\n",
    "            optimizer_fea.zero_grad()\n",
    "            optimizer_reg.zero_grad()\n",
    "            loss.backward()\n",
    "            optimizer_fea.step()\n",
    "            optimizer_reg.step()\n",
    "        \n",
    "        if epoch+1<10 or (epoch+1) % 100 == 0:\n",
    "            print(f\"Epoch [{epoch+1}/{num_epochs}] - loss: {loss:.4f}\")\n",
    "    \n",
    "    return feature_extractor, reg"
   ]
  },
  {
   "cell_type": "code",
   "execution_count": 231,
   "metadata": {},
   "outputs": [],
   "source": [
    "def Model_train(num_epochs=None, feature_ex=None,input_size=None, hidden_size=None, out_size=None, lr=None,source_data_loader=None, target_data_loader=None):    \n",
    "    M_s = feature_ex # feature extractor trained from the source domain\n",
    "    M_t = FeatureExtractor(input_size, hidden_size, out_size) # feature extractor for the target domain\n",
    "    Discriminator = DomainClassifier(hidden_size) # Domain discriminator\n",
    "    \n",
    "    # Define the optimizer for the domain discriminator and the extractor of the target domain\n",
    "    optimizer_d = optim.Adam(Discriminator.parameters(), lr=lr)\n",
    "    optimizer_mt = optim.Adam(M_t.parameters(), lr=lr)\n",
    "    \n",
    "    # Loss functions\n",
    "    domain_criterion = nn.BCEWithLogitsLoss()  # For domain classification\n",
    "    \n",
    "    # Training loop\n",
    "    for epoch in range(num_epochs):\n",
    "        for source_batch, target_batch in zip(source_data_loader, target_data_loader):\n",
    "            source_x, source_y = source_batch\n",
    "            target_x, target_y = target_batch\n",
    "\n",
    "            # Feature extractor\n",
    "            source_features = M_s(source_x)\n",
    "            target_features = M_t(target_x)\n",
    "\n",
    "            # Domain discriminator\n",
    "            s_l = torch.ones(source_features.shape[0], 1)  # Labels for source domain (1s)\n",
    "            t_l = torch.zeros(target_features.shape[0], 1)  # Labels for target domain (0s)\n",
    "            domain_labels = torch.concatenate([s_l,t_l],0)\n",
    "            domain_inputs = torch.concatenate([source_features, target_features],0)\n",
    "            \n",
    "            # Domain discriminator loss\n",
    "            domain_predicts = Discriminator(domain_inputs)\n",
    "            domain_loss = domain_criterion(domain_predicts, domain_labels)\n",
    "          \n",
    "            optimizer_d.zero_grad()\n",
    "            domain_loss.backward()\n",
    "            optimizer_d.step()\n",
    "\n",
    "            # Target feature extractor loss\n",
    "            optimizer_d.zero_grad()\n",
    "            optimizer_mt.zero_grad()\n",
    "            target_features = M_t(target_x)\n",
    "            target_predicts = Discriminator(target_features)\n",
    "            label_target = torch.ones(target_features.shape[0], 1)\n",
    "            t_enc_loss = domain_criterion(target_predicts, label_target)\n",
    "            t_enc_loss.backward()\n",
    "            optimizer_mt.step()\n",
    "\n",
    "            \n",
    "        if epoch+1<10 or (epoch+1) % 100 == 0:\n",
    "            print(f\"Epoch [{epoch+1}/{num_epochs}] - Domain Loss: {domain_loss:.4f} - Target Encoder Loss: {t_enc_loss:.4f}\")\n",
    "    \n",
    "    return M_t"
   ]
  },
  {
   "cell_type": "code",
   "execution_count": 18,
   "metadata": {},
   "outputs": [],
   "source": [
    "def Model_eva(feature_ex, reg, data_loader):\n",
    "    feature_ex.eval()\n",
    "    reg.eval()\n",
    "    predictions = []\n",
    "    with torch.no_grad():\n",
    "        for x, y in data_loader:\n",
    "            new_features = feature_ex(x)\n",
    "            new_pred = reg(new_features)\n",
    "            predictions = np.append(predictions, new_pred.detach().numpy().squeeze())\n",
    "    return predictions"
   ]
  },
  {
   "cell_type": "code",
   "execution_count": 326,
   "metadata": {},
   "outputs": [
    {
     "name": "stdout",
     "output_type": "stream",
     "text": [
      "Epoch [1/800] - Domain Loss: 0.3346 - Target Encoder Loss: 0.4741\n",
      "Epoch [2/800] - Domain Loss: 0.3346 - Target Encoder Loss: 0.4741\n",
      "Epoch [3/800] - Domain Loss: 0.3346 - Target Encoder Loss: 0.4741\n",
      "Epoch [4/800] - Domain Loss: 0.3346 - Target Encoder Loss: 0.4732\n",
      "Epoch [5/800] - Domain Loss: 0.3348 - Target Encoder Loss: 0.4702\n",
      "Epoch [6/800] - Domain Loss: 0.3350 - Target Encoder Loss: 0.4667\n",
      "Epoch [7/800] - Domain Loss: 0.3352 - Target Encoder Loss: 0.4628\n",
      "Epoch [8/800] - Domain Loss: 0.3354 - Target Encoder Loss: 0.4584\n",
      "Epoch [9/800] - Domain Loss: 0.3357 - Target Encoder Loss: 0.4534\n",
      "Epoch [100/800] - Domain Loss: 0.3447 - Target Encoder Loss: 0.3240\n",
      "Epoch [200/800] - Domain Loss: 0.3452 - Target Encoder Loss: 0.3190\n",
      "Epoch [300/800] - Domain Loss: 0.3457 - Target Encoder Loss: 0.3172\n",
      "Epoch [400/800] - Domain Loss: 0.3459 - Target Encoder Loss: 0.3153\n",
      "Epoch [500/800] - Domain Loss: 0.3457 - Target Encoder Loss: 0.3141\n",
      "Epoch [600/800] - Domain Loss: 0.3457 - Target Encoder Loss: 0.3136\n",
      "Epoch [700/800] - Domain Loss: 0.3456 - Target Encoder Loss: 0.3134\n",
      "Epoch [800/800] - Domain Loss: 0.3456 - Target Encoder Loss: 0.3134\n"
     ]
    }
   ],
   "source": [
    "# source_data_loader = data_loader(X_1, y1.reshape((-1,1)), batch_size=30, seed=0)\n",
    "# feature_ex_s, reg = regressor(num_epochs=10000, input_size=118, hidden_size=5, out_size=5, lr=0.001, source_data_loader=source_data_loader)\n",
    "\n",
    "source_data_loader = data_loader(X_1, y1.reshape((-1,1)), batch_size=30, seed=0)\n",
    "target_data_loader = data_loader(X_2, y2.reshape((-1,1)), batch_size=10, seed=0)\n",
    "target2_data_loader = data_loader(X_3, y3.reshape((-1,1)), batch_size=5, seed=0)\n",
    "feature_ex_t = Model_train(num_epochs=800, feature_ex=feature_ex_s, input_size=118, hidden_size=5, out_size=5, \n",
    "                           lr=0.0001, source_data_loader=source_data_loader,target_data_loader=target2_data_loader)\n"
   ]
  },
  {
   "cell_type": "code",
   "execution_count": 327,
   "metadata": {},
   "outputs": [
    {
     "name": "stdout",
     "output_type": "stream",
     "text": [
      "Training RMSE: 0.6260441215051337\n",
      "Training MAE: 0.5062220117082569\n",
      "Test2 RMSE: 14.00796713078503\n",
      "Test2 MAE: 9.552953909474907\n",
      "Test3 RMSE: 5.091997712924708\n",
      "Test3 MAE: 4.528494558026714\n"
     ]
    }
   ],
   "source": [
    "ytrhat = Model_eva(feature_ex_s, reg, source_data_loader)\n",
    "ytehat2 = Model_eva(feature_ex_t, reg, target_data_loader)\n",
    "ytehat3 = Model_eva(feature_ex_t, reg, target2_data_loader)\n",
    "print('Training RMSE:',rmse(y1,ytrhat))\n",
    "print('Training MAE:', mae(y1,ytrhat))\n",
    "print('Test2 RMSE:',rmse(y2,ytehat2))\n",
    "print('Test2 MAE:',mae(y2,ytehat2))\n",
    "print('Test3 RMSE:',rmse(y3,ytehat3))\n",
    "print('Test3 MAE:',mae(y3,ytehat3))"
   ]
  },
  {
   "cell_type": "code",
   "execution_count": 328,
   "metadata": {},
   "outputs": [
    {
     "data": {
      "text/plain": [
       "<matplotlib.legend.Legend at 0x1fcafa8ce20>"
      ]
     },
     "execution_count": 328,
     "metadata": {},
     "output_type": "execute_result"
    },
    {
     "data": {
      "image/png": "[encoded data removed]",
      "text/plain": [
       "<Figure size 640x480 with 1 Axes>"
      ]
     },
     "metadata": {},
     "output_type": "display_data"
    }
   ],
   "source": [
    "plt.plot(y2, label='Observations')\n",
    "plt.plot(ytehat2, label='Predictions')\n",
    "plt.legend()\n",
    "\n",
    "# plt.plot(y1, label='Observations')\n",
    "# plt.plot(ytrhat, label='Predictions')\n",
    "# plt.legend()"
   ]
  },
  {
   "cell_type": "code",
   "execution_count": 329,
   "metadata": {},
   "outputs": [],
   "source": [
    "excel_file_path = 'ENEOS_ADDA.xlsx'  # Specify the desired file path\n",
    "df = pd.DataFrame(ytehat2)\n",
    "df.to_excel(excel_file_path, index=False) "
   ]
  },
  {
   "cell_type": "code",
   "execution_count": 330,
   "metadata": {},
   "outputs": [
    {
     "name": "stdout",
     "output_type": "stream",
     "text": [
      "(331, 13) (331, 9) (331, 10)\n",
      "(331, 28)\n",
      "(331, 28)\n"
     ]
    }
   ],
   "source": [
    "MI1 = pd.read_csv('C:/Users\\liuwe\\Desktop\\Daily\\Research\\Dataset\\Melt Index\\M1.txt',header=0,index_col=0,sep='\\t')\n",
    "MI2 = pd.read_csv('C:/Users\\liuwe\\Desktop\\Daily\\Research\\Dataset\\Melt Index\\M2.txt',header=0,sep='\\t')\n",
    "MI3 = pd.read_csv('C:/Users\\liuwe\\Desktop\\Daily\\Research\\Dataset\\Melt Index\\M3.txt',header=0,sep='\\t')\n",
    "MI1 = MI1.reset_index(drop=True)\n",
    "print(MI1.shape, MI2.shape, MI3.shape)\n",
    "MI2.drop(columns=MI2.columns[3],inplace=True)\n",
    "raw_data = pd.concat([MI1.iloc[:,:12],MI2.iloc[:,:7],MI3.iloc[:,:9]],axis=1)\n",
    "print(raw_data.shape)\n",
    "raw_data.columns = ['f' + number for number in list(map(str,range(28)))] \n",
    "target = MI3.iloc[:,9].values\n",
    "print(raw_data.shape)"
   ]
  },
  {
   "cell_type": "code",
   "execution_count": 331,
   "metadata": {},
   "outputs": [],
   "source": [
    "X_train, X_test, y_train, y_test = train_test_split(raw_data.values, target, train_size=249,shuffle=False)\n",
    "scaler = StandardScaler()\n",
    "X_train = scaler.fit_transform(X_train)\n",
    "X_test = scaler.transform(X_test)"
   ]
  },
  {
   "cell_type": "code",
   "execution_count": 361,
   "metadata": {},
   "outputs": [
    {
     "name": "stdout",
     "output_type": "stream",
     "text": [
      "Epoch [1/700] - loss: 0.3066\n",
      "Epoch [2/700] - loss: 0.3023\n",
      "Epoch [3/700] - loss: 0.2981\n",
      "Epoch [4/700] - loss: 0.2942\n",
      "Epoch [5/700] - loss: 0.2910\n",
      "Epoch [6/700] - loss: 0.2879\n",
      "Epoch [7/700] - loss: 0.2850\n",
      "Epoch [8/700] - loss: 0.2821\n",
      "Epoch [9/700] - loss: 0.2792\n",
      "Epoch [100/700] - loss: 0.1806\n",
      "Epoch [200/700] - loss: 0.0429\n",
      "Epoch [300/700] - loss: 0.0039\n",
      "Epoch [400/700] - loss: 0.0012\n",
      "Epoch [500/700] - loss: 0.0008\n",
      "Epoch [600/700] - loss: 0.0006\n",
      "Epoch [700/700] - loss: 0.0005\n",
      "Epoch [1/800] - Domain Loss: 0.4879 - Target Encoder Loss: 0.4741\n",
      "Epoch [2/800] - Domain Loss: 0.4879 - Target Encoder Loss: 0.4741\n",
      "Epoch [3/800] - Domain Loss: 0.4879 - Target Encoder Loss: 0.4741\n",
      "Epoch [4/800] - Domain Loss: 0.4878 - Target Encoder Loss: 0.4741\n",
      "Epoch [5/800] - Domain Loss: 0.4878 - Target Encoder Loss: 0.4741\n",
      "Epoch [6/800] - Domain Loss: 0.4878 - Target Encoder Loss: 0.4741\n",
      "Epoch [7/800] - Domain Loss: 0.4878 - Target Encoder Loss: 0.4741\n",
      "Epoch [8/800] - Domain Loss: 0.4877 - Target Encoder Loss: 0.4741\n",
      "Epoch [9/800] - Domain Loss: 0.4877 - Target Encoder Loss: 0.4741\n",
      "Epoch [100/800] - Domain Loss: 0.4862 - Target Encoder Loss: 0.4741\n",
      "Epoch [200/800] - Domain Loss: 0.4861 - Target Encoder Loss: 0.4741\n",
      "Epoch [300/800] - Domain Loss: 0.4946 - Target Encoder Loss: 0.4208\n",
      "Epoch [400/800] - Domain Loss: 0.4999 - Target Encoder Loss: 0.4095\n",
      "Epoch [500/800] - Domain Loss: 0.5032 - Target Encoder Loss: 0.4209\n",
      "Epoch [600/800] - Domain Loss: 0.5050 - Target Encoder Loss: 0.4512\n",
      "Epoch [700/800] - Domain Loss: 0.5051 - Target Encoder Loss: 0.4741\n",
      "Epoch [800/800] - Domain Loss: 0.5048 - Target Encoder Loss: 0.4741\n"
     ]
    }
   ],
   "source": [
    "source_data_loader = data_loader(X_train, y_train.reshape((-1,1)), batch_size=30, seed=0)\n",
    "target_data_loader = data_loader(X_test, y_test.reshape((-1,1)), batch_size=20, seed=0)\n",
    "feature_ex_s, reg = regressor(num_epochs=700, input_size=28, hidden_size=5, out_size=5, lr=0.0001, source_data_loader=source_data_loader)\n",
    "\n",
    "feature_ex_t = Model_train(num_epochs=800, feature_ex=feature_ex_s, input_size=28, hidden_size=5, out_size=5, \n",
    "                           lr=0.0001, source_data_loader=source_data_loader,target_data_loader=target_data_loader)"
   ]
  },
  {
   "cell_type": "code",
   "execution_count": 362,
   "metadata": {},
   "outputs": [
    {
     "name": "stdout",
     "output_type": "stream",
     "text": [
      "Training RMSE: 0.07184691326927792\n",
      "Training MAE: 0.044615459331499636\n",
      "Test2 RMSE: 0.1762638112858072\n",
      "Test2 MAE: 0.12038075108513419\n"
     ]
    }
   ],
   "source": [
    "ytrhat = Model_eva(feature_ex_s, reg, source_data_loader)\n",
    "ytehat = Model_eva(feature_ex_t, reg, target_data_loader)\n",
    "print('Training RMSE:',rmse(y_train,ytrhat))\n",
    "print('Training MAE:', mae(y_train,ytrhat))\n",
    "print('Test2 RMSE:',rmse(y_test,ytehat))\n",
    "print('Test2 MAE:',mae(y_test,ytehat))"
   ]
  },
  {
   "cell_type": "code",
   "execution_count": 363,
   "metadata": {},
   "outputs": [],
   "source": [
    "excel_file_path = 'MI_ADDA.xlsx'  # Specify the desired file path\n",
    "df = pd.DataFrame(ytehat)\n",
    "df.to_excel(excel_file_path, index=False)  "
   ]
  },
  {
   "cell_type": "code",
   "execution_count": 364,
   "metadata": {},
   "outputs": [],
   "source": [
    "df = pd.read_csv('C:/Users\\liuwe\\Desktop\\Daily\\Research\\Dataset\\Penicillin Fermentation\\IndPenSim_V3.csv')\n",
    "\n",
    "# Exchange the column names \n",
    "df = df.rename(columns={'2-PAT control(PAT_ref:PAT ref)': 'Batch reference(Batch_ref:Batch ref)','Batch reference(Batch_ref:Batch ref)':'2-PAT control(PAT_ref:PAT ref)'})\n",
    "\n",
    "# Fix the 4 hour delay by shifting 20 (20*12mins)\n",
    "df['Offline Penicillin concentration(P_offline:P(g L^{-1}))'] = df['Offline Penicillin concentration(P_offline:P(g L^{-1}))'].shift(-20)"
   ]
  },
  {
   "cell_type": "code",
   "execution_count": 365,
   "metadata": {},
   "outputs": [],
   "source": [
    "# Split the data to variables and raman, the later is not useful\n",
    "variable_raman_data = np.split(df, [df.columns.get_loc(\"2400\")], axis=1)\n",
    "variable_data = variable_raman_data[0]\n",
    "raman_spectra = variable_raman_data[1]\n",
    "delete_variables = ['Time (h)', '1- No Raman spec',' 1-Raman spec recorded',\n",
    "                    'Offline Biomass concentratio(X_offline:X(g L^{-1}))',\n",
    "                    'PAA concentration offline(PAA_offline:PAA (g L^{-1}))',\n",
    "                    'NH_3 concentration off-line(NH3_offline:NH3 (g L^{-1}))',\n",
    "                    'Viscosity(Viscosity_offline:centPoise)',\n",
    "                    '2-PAT control(PAT_ref:PAT ref)','Penicillin concentration(P:g/L)',\n",
    "                    '0 - Recipe driven 1 - Operator controlled(Control_ref:Control ref)',\n",
    "                    'Fault reference(Fault_ref:Fault ref)','Batch ID','Fault flag']\n",
    "variable_data = variable_data.drop(delete_variables,axis=1)\n",
    "# Group the data according to their batch number (1-100)\n",
    "grouped_data = variable_data.groupby(['Batch reference(Batch_ref:Batch ref)'])"
   ]
  },
  {
   "cell_type": "code",
   "execution_count": 366,
   "metadata": {},
   "outputs": [],
   "source": [
    "batch_id1, batch_id2 = 1, 19\n",
    "batch1, batch2 = list(grouped_data)[batch_id1-1][1].iloc[:-20], list(grouped_data)[batch_id2-1][1].iloc[:-20]\n",
    "offline_interp1 = batch1['Offline Penicillin concentration(P_offline:P(g L^{-1}))'].interpolate(method='spline',order=3,limit=100, limit_direction='both')\n",
    "offline_interp2 = batch2['Offline Penicillin concentration(P_offline:P(g L^{-1}))'].interpolate(method='spline',order=3,limit=100, limit_direction='both')\n",
    "y_train, y_test = offline_interp1.values, offline_interp2.values"
   ]
  },
  {
   "cell_type": "code",
   "execution_count": 367,
   "metadata": {},
   "outputs": [],
   "source": [
    "X_train = batch1.drop(['Offline Penicillin concentration(P_offline:P(g L^{-1}))'],axis=1)\n",
    "X_test = batch2.drop(['Offline Penicillin concentration(P_offline:P(g L^{-1}))'],axis=1)\n",
    "\n",
    "# Drop inactive columns\n",
    "irq = X_train.quantile(0.75)-X_train.quantile(0.25)\n",
    "vars_inactive = irq.index[irq==0.0]\n",
    "X_train = X_train.drop(vars_inactive,axis=1)\n",
    "X_test = X_test[X_train.columns]\n",
    "\n",
    "scaler = StandardScaler()\n",
    "X_train = scaler.fit_transform(X_train)\n",
    "X_test = scaler.transform(X_test)"
   ]
  },
  {
   "cell_type": "code",
   "execution_count": 435,
   "metadata": {},
   "outputs": [
    {
     "name": "stdout",
     "output_type": "stream",
     "text": [
      "Epoch [1/800] - loss: 877.5710\n",
      "Epoch [2/800] - loss: 876.9074\n",
      "Epoch [3/800] - loss: 876.2836\n",
      "Epoch [4/800] - loss: 875.6864\n",
      "Epoch [5/800] - loss: 875.1037\n",
      "Epoch [6/800] - loss: 874.5341\n",
      "Epoch [7/800] - loss: 873.9762\n",
      "Epoch [8/800] - loss: 873.4328\n",
      "Epoch [9/800] - loss: 872.8894\n",
      "Epoch [100/800] - loss: 748.6927\n",
      "Epoch [200/800] - loss: 487.3008\n",
      "Epoch [300/800] - loss: 245.0223\n",
      "Epoch [400/800] - loss: 118.1456\n",
      "Epoch [500/800] - loss: 69.2406\n",
      "Epoch [600/800] - loss: 47.7575\n",
      "Epoch [700/800] - loss: 36.8140\n",
      "Epoch [800/800] - loss: 30.5077\n"
     ]
    }
   ],
   "source": [
    "source_data_loader = data_loader(X_train, y_train.reshape((-1,1)), batch_size=30, seed=0)\n",
    "feature_ex_s, reg = regressor(num_epochs=800, input_size=20, hidden_size=5, out_size=5, lr=0.0001, source_data_loader=source_data_loader)\n",
    "\n",
    "# source_data_loader = data_loader(X_train, y_train.reshape((-1,1)), batch_size=30, seed=0)\n",
    "# target_data_loader = data_loader(X_test, y_test.reshape((-1,1)), batch_size=20, seed=0)\n",
    "# feature_ex_t = Model_train(num_epochs=100, feature_ex=feature_ex_s, input_size=20, hidden_size=5, out_size=5, \n",
    "#                            lr=0.001, source_data_loader=source_data_loader,target_data_loader=target_data_loader)"
   ]
  },
  {
   "cell_type": "code",
   "execution_count": 436,
   "metadata": {},
   "outputs": [
    {
     "name": "stdout",
     "output_type": "stream",
     "text": [
      "Training RMSE: 3.1393301484350458\n",
      "Training MAE: 2.3542205630146635\n",
      "Test2 RMSE: 10.236032537439954\n",
      "Test2 MAE: 7.176660146015477\n"
     ]
    }
   ],
   "source": [
    "ytrhat = Model_eva(feature_ex_s, reg, source_data_loader)\n",
    "ytehat = Model_eva(feature_ex_s, reg, target_data_loader)\n",
    "print('Training RMSE:',rmse(y_train,ytrhat))\n",
    "print('Training MAE:', mae(y_train,ytrhat))\n",
    "print('Test2 RMSE:',rmse(y_test,ytehat))\n",
    "print('Test2 MAE:',mae(y_test,ytehat))"
   ]
  },
  {
   "cell_type": "code",
   "execution_count": null,
   "metadata": {},
   "outputs": [],
   "source": [
    "excel_file_path = 'P_ADDA.xlsx'  # Specify the desired file path\n",
    "df = pd.DataFrame(ytehat)\n",
    "df.to_excel(excel_file_path, index=False)  "
   ]
  }
 ],
 "metadata": {
  "kernelspec": {
   "display_name": "base",
   "language": "python",
   "name": "python3"
  },
  "language_info": {
   "codemirror_mode": {
    "name": "ipython",
    "version": 3
   },
   "file_extension": ".py",
   "mimetype": "text/x-python",
   "name": "python",
   "nbconvert_exporter": "python",
   "pygments_lexer": "ipython3",
   "version": "3.9.15"
  },
  "orig_nbformat": 4
 },
 "nbformat": 4,
 "nbformat_minor": 2
}
